{
 "cells": [
  {
   "cell_type": "code",
   "execution_count": 1,
   "metadata": {},
   "outputs": [
    {
     "name": "stdout",
     "output_type": "stream",
     "text": [
      "Publishing records..\n",
      "Message published successfully. Data: {'data': {'longitude': 145.2888, 'latitude': -36.6876, 'confidence': 84, 'surface_temperature_celcius': 58}, 'sender_id': 'Producer3', 'create_time': '20:21:02'}\n",
      "Message published successfully. Data: {'data': {'longitude': 143.3105, 'latitude': -35.4993, 'confidence': 84, 'surface_temperature_celcius': 57}, 'sender_id': 'Producer3', 'create_time': '20:21:30'}\n",
      "Message published successfully. Data: {'data': {'longitude': 147.4713, 'latitude': -37.2063, 'confidence': 92, 'surface_temperature_celcius': 70}, 'sender_id': 'Producer3', 'create_time': '20:21:44'}\n",
      "Message published successfully. Data: {'data': {'longitude': 141.8756, 'latitude': -36.2517, 'confidence': 59, 'surface_temperature_celcius': 43}, 'sender_id': 'Producer3', 'create_time': '20:22:06'}\n",
      "Message published successfully. Data: {'data': {'longitude': 142.5802, 'latitude': -36.8632, 'confidence': 60, 'surface_temperature_celcius': 60}, 'sender_id': 'Producer3', 'create_time': '20:22:23'}\n",
      "Message published successfully. Data: {'data': {'longitude': 145.506, 'latitude': -36.2726, 'confidence': 77, 'surface_temperature_celcius': 50}, 'sender_id': 'Producer3', 'create_time': '20:22:36'}\n",
      "Message published successfully. Data: {'data': {'longitude': 143.5442, 'latitude': -37.3226, 'confidence': 78, 'surface_temperature_celcius': 51}, 'sender_id': 'Producer3', 'create_time': '20:22:50'}\n",
      "Message published successfully. Data: {'data': {'longitude': 142.7374, 'latitude': -37.5812, 'confidence': 94, 'surface_temperature_celcius': 75}, 'sender_id': 'Producer3', 'create_time': '20:23:09'}\n",
      "Message published successfully. Data: {'data': {'longitude': 143.9571, 'latitude': -36.7943, 'confidence': 99, 'surface_temperature_celcius': 84}, 'sender_id': 'Producer3', 'create_time': '20:23:35'}\n",
      "Message published successfully. Data: {'data': {'longitude': 141.3253, 'latitude': -36.7531, 'confidence': 84, 'surface_temperature_celcius': 78}, 'sender_id': 'Producer3', 'create_time': '20:24:00'}\n",
      "Message published successfully. Data: {'data': {'longitude': 141.7183, 'latitude': -36.0396, 'confidence': 95, 'surface_temperature_celcius': 76}, 'sender_id': 'Producer3', 'create_time': '20:24:26'}\n",
      "Message published successfully. Data: {'data': {'longitude': 142.8183, 'latitude': -37.1684, 'confidence': 55, 'surface_temperature_celcius': 48}, 'sender_id': 'Producer3', 'create_time': '20:24:53'}\n",
      "Message published successfully. Data: {'data': {'longitude': 143.5697, 'latitude': -37.2891, 'confidence': 76, 'surface_temperature_celcius': 50}, 'sender_id': 'Producer3', 'create_time': '20:25:24'}\n",
      "Message published successfully. Data: {'data': {'longitude': 146.8907, 'latitude': -36.6859, 'confidence': 59, 'surface_temperature_celcius': 40}, 'sender_id': 'Producer3', 'create_time': '20:25:52'}\n",
      "Message published successfully. Data: {'data': {'longitude': 144.3033, 'latitude': -36.6363, 'confidence': 54, 'surface_temperature_celcius': 40}, 'sender_id': 'Producer3', 'create_time': '20:26:02'}\n",
      "Message published successfully. Data: {'data': {'longitude': 142.1472, 'latitude': -36.9954, 'confidence': 81, 'surface_temperature_celcius': 55}, 'sender_id': 'Producer3', 'create_time': '20:26:13'}\n",
      "Message published successfully. Data: {'data': {'longitude': 143.6615, 'latitude': -37.4047, 'confidence': 69, 'surface_temperature_celcius': 45}, 'sender_id': 'Producer3', 'create_time': '20:26:26'}\n",
      "Message published successfully. Data: {'data': {'longitude': 143.1197, 'latitude': -37.7929, 'confidence': 64, 'surface_temperature_celcius': 42}, 'sender_id': 'Producer3', 'create_time': '20:26:39'}\n",
      "Message published successfully. Data: {'data': {'longitude': 142.2956, 'latitude': -36.5661, 'confidence': 89, 'surface_temperature_celcius': 65}, 'sender_id': 'Producer3', 'create_time': '20:27:02'}\n",
      "Message published successfully. Data: {'data': {'longitude': 143.7614, 'latitude': -36.0806, 'confidence': 63, 'surface_temperature_celcius': 42}, 'sender_id': 'Producer3', 'create_time': '20:27:27'}\n",
      "Message published successfully. Data: {'data': {'longitude': 142.9087, 'latitude': -37.3586, 'confidence': 59, 'surface_temperature_celcius': 40}, 'sender_id': 'Producer3', 'create_time': '20:27:48'}\n",
      "Message published successfully. Data: {'data': {'longitude': 143.5343, 'latitude': -37.8469, 'confidence': 60, 'surface_temperature_celcius': 50}, 'sender_id': 'Producer3', 'create_time': '20:28:08'}\n",
      "Message published successfully. Data: {'data': {'longitude': 143.3482, 'latitude': -37.8078, 'confidence': 85, 'surface_temperature_celcius': 60}, 'sender_id': 'Producer3', 'create_time': '20:28:31'}\n",
      "Message published successfully. Data: {'data': {'longitude': 145.0695, 'latitude': -36.1029, 'confidence': 66, 'surface_temperature_celcius': 43}, 'sender_id': 'Producer3', 'create_time': '20:28:52'}\n",
      "Message published successfully. Data: {'data': {'longitude': 143.3995, 'latitude': -37.7236, 'confidence': 99, 'surface_temperature_celcius': 86}, 'sender_id': 'Producer3', 'create_time': '20:29:05'}\n",
      "Message published successfully. Data: {'data': {'longitude': 141.7747, 'latitude': -36.0077, 'confidence': 100, 'surface_temperature_celcius': 93}, 'sender_id': 'Producer3', 'create_time': '20:29:23'}\n"
     ]
    },
    {
     "name": "stderr",
     "output_type": "stream",
     "text": [
      "ERROR:root:Internal Python error in the inspect module.\n",
      "Below is the traceback from this internal error.\n",
      "\n"
     ]
    },
    {
     "name": "stdout",
     "output_type": "stream",
     "text": [
      "Traceback (most recent call last):\n",
      "  File \"/home/student/.local/lib/python3.5/site-packages/IPython/core/interactiveshell.py\", line 2963, in run_code\n",
      "    exec(code_obj, self.user_global_ns, self.user_ns)\n",
      "  File \"<ipython-input-1-c3bdbd6e52d6>\", line 44, in <module>\n",
      "    sleep(t)\n",
      "KeyboardInterrupt\n",
      "\n",
      "During handling of the above exception, another exception occurred:\n",
      "\n",
      "Traceback (most recent call last):\n",
      "  File \"/home/student/.local/lib/python3.5/site-packages/IPython/core/interactiveshell.py\", line 1863, in showtraceback\n",
      "    stb = value._render_traceback_()\n",
      "AttributeError: 'KeyboardInterrupt' object has no attribute '_render_traceback_'\n",
      "\n",
      "During handling of the above exception, another exception occurred:\n",
      "\n",
      "Traceback (most recent call last):\n",
      "  File \"/home/student/.local/lib/python3.5/site-packages/IPython/core/ultratb.py\", line 1095, in get_records\n",
      "    return _fixed_getinnerframes(etb, number_of_lines_of_context, tb_offset)\n",
      "  File \"/home/student/.local/lib/python3.5/site-packages/IPython/core/ultratb.py\", line 311, in wrapped\n",
      "    return f(*args, **kwargs)\n",
      "  File \"/home/student/.local/lib/python3.5/site-packages/IPython/core/ultratb.py\", line 345, in _fixed_getinnerframes\n",
      "    records = fix_frame_records_filenames(inspect.getinnerframes(etb, context))\n",
      "  File \"/usr/lib/python3.5/inspect.py\", line 1453, in getinnerframes\n",
      "    frameinfo = (tb.tb_frame,) + getframeinfo(tb, context)\n",
      "  File \"/usr/lib/python3.5/inspect.py\", line 1410, in getframeinfo\n",
      "    filename = getsourcefile(frame) or getfile(frame)\n",
      "  File \"/usr/lib/python3.5/inspect.py\", line 672, in getsourcefile\n",
      "    if getattr(getmodule(object, filename), '__loader__', None) is not None:\n",
      "  File \"/usr/lib/python3.5/inspect.py\", line 715, in getmodule\n",
      "    f = getabsfile(module)\n",
      "  File \"/usr/lib/python3.5/inspect.py\", line 684, in getabsfile\n",
      "    _filename = getsourcefile(object) or getfile(object)\n",
      "  File \"/usr/lib/python3.5/inspect.py\", line 669, in getsourcefile\n",
      "    if os.path.exists(filename):\n",
      "  File \"/usr/lib/python3.5/genericpath.py\", line 19, in exists\n",
      "    os.stat(path)\n",
      "KeyboardInterrupt\n"
     ]
    },
    {
     "ename": "KeyboardInterrupt",
     "evalue": "",
     "output_type": "error",
     "traceback": [
      "\u001b[0;31m---------------------------------------------------------------------------\u001b[0m"
     ]
    }
   ],
   "source": [
    "from time import sleep\n",
    "from json import dumps\n",
    "from kafka import KafkaProducer\n",
    "import random\n",
    "import datetime as dt\n",
    "import pandas as pd\n",
    " \n",
    "def publish_message(producer_instance, topic_name, data):\n",
    "    try:\n",
    "        producer_instance.send(topic_name, value=data)\n",
    "        print('Message published successfully. Data: ' + str(data))\n",
    "    except Exception as ex:\n",
    "        print('Exception in publishing message.')\n",
    "        print(str(ex))\n",
    "        \n",
    "def connect_kafka_producer():\n",
    "    _producer = None\n",
    "    try:\n",
    "        _producer = KafkaProducer(bootstrap_servers=['localhost:9092'],\n",
    "                                  value_serializer=lambda x: dumps(x).encode('ascii'),\n",
    "                                  api_version=(0, 10))\n",
    "    except Exception as ex:\n",
    "        print('Exception while connecting Kafka.')\n",
    "        print(str(ex))\n",
    "    finally:\n",
    "        return _producer\n",
    "    \n",
    "if __name__ == '__main__':\n",
    "   \n",
    "    topic = 'Producer'\n",
    "    print('Publishing records..')\n",
    "    producer03 = connect_kafka_producer()\n",
    "    \n",
    "    hts = pd.read_csv('hotspot_TERRA_streaming.csv') # read data from .csv file\n",
    "    hts_dict = hts.to_dict(orient = 'records')\n",
    "    Stop = False\n",
    "    while not Stop:\n",
    "        rand = random.randint(0,len(hts_dict)-1)\n",
    "        document = hts_dict[rand] # Generate data to read file randomly\n",
    "        datetime = str(dt.datetime.now().strftime(\"%X\"))\n",
    "        data = {'create_time': datetime, 'sender_id': 'Producer3','data' : document}\n",
    "        publish_message(producer03, topic, data)\n",
    "        t = random.randint(10,30)\n",
    "        sleep(t)"
   ]
  },
  {
   "cell_type": "code",
   "execution_count": null,
   "metadata": {},
   "outputs": [],
   "source": []
  }
 ],
 "metadata": {
  "kernelspec": {
   "display_name": "Python 3",
   "language": "python",
   "name": "python3"
  },
  "language_info": {
   "codemirror_mode": {
    "name": "ipython",
    "version": 3
   },
   "file_extension": ".py",
   "mimetype": "text/x-python",
   "name": "python",
   "nbconvert_exporter": "python",
   "pygments_lexer": "ipython3",
   "version": "3.5.2"
  }
 },
 "nbformat": 4,
 "nbformat_minor": 2
}
