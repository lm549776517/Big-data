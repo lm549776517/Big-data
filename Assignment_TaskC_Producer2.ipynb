{
 "cells": [
  {
   "cell_type": "code",
   "execution_count": 1,
   "metadata": {},
   "outputs": [
    {
     "name": "stdout",
     "output_type": "stream",
     "text": [
      "Publishing records..\n",
      "Message published successfully. Data: {'create_time': '20:21:02', 'data': {'latitude': -37.6008, 'longitude': 143.0558, 'confidence': 69, 'surface_temperature_celcius': 44}, 'sender_id': 'Producer2'}\n",
      "Message published successfully. Data: {'create_time': '20:21:24', 'data': {'latitude': -37.3632, 'longitude': 145.8356, 'confidence': 75, 'surface_temperature_celcius': 53}, 'sender_id': 'Producer2'}\n",
      "Message published successfully. Data: {'create_time': '20:21:36', 'data': {'latitude': -36.7377, 'longitude': 141.3299, 'confidence': 77, 'surface_temperature_celcius': 50}, 'sender_id': 'Producer2'}\n",
      "Message published successfully. Data: {'create_time': '20:21:59', 'data': {'latitude': -36.3011, 'longitude': 145.9395, 'confidence': 76, 'surface_temperature_celcius': 50}, 'sender_id': 'Producer2'}\n",
      "Message published successfully. Data: {'create_time': '20:22:12', 'data': {'latitude': -36.7338, 'longitude': 144.5479, 'confidence': 66, 'surface_temperature_celcius': 43}, 'sender_id': 'Producer2'}\n",
      "Message published successfully. Data: {'create_time': '20:22:23', 'data': {'latitude': -36.3597, 'longitude': 141.9724, 'confidence': 65, 'surface_temperature_celcius': 42}, 'sender_id': 'Producer2'}\n",
      "Message published successfully. Data: {'create_time': '20:22:45', 'data': {'latitude': -37.4323, 'longitude': 147.6583, 'confidence': 95, 'surface_temperature_celcius': 76}, 'sender_id': 'Producer2'}\n",
      "Message published successfully. Data: {'create_time': '20:23:03', 'data': {'latitude': -37.61, 'longitude': 149.30700000000002, 'confidence': 97, 'surface_temperature_celcius': 80}, 'sender_id': 'Producer2'}\n",
      "Message published successfully. Data: {'create_time': '20:23:26', 'data': {'latitude': -37.8062, 'longitude': 143.3598, 'confidence': 77, 'surface_temperature_celcius': 65}, 'sender_id': 'Producer2'}\n",
      "Message published successfully. Data: {'create_time': '20:23:42', 'data': {'latitude': -37.384, 'longitude': 148.056, 'confidence': 90, 'surface_temperature_celcius': 63}, 'sender_id': 'Producer2'}\n",
      "Message published successfully. Data: {'create_time': '20:24:00', 'data': {'latitude': -37.8078, 'longitude': 143.3482, 'confidence': 85, 'surface_temperature_celcius': 60}, 'sender_id': 'Producer2'}\n",
      "Message published successfully. Data: {'create_time': '20:24:17', 'data': {'latitude': -35.7642, 'longitude': 143.3321, 'confidence': 89, 'surface_temperature_celcius': 65}, 'sender_id': 'Producer2'}\n",
      "Message published successfully. Data: {'create_time': '20:24:41', 'data': {'latitude': -36.1439, 'longitude': 145.832, 'confidence': 53, 'surface_temperature_celcius': 50}, 'sender_id': 'Producer2'}\n",
      "Message published successfully. Data: {'create_time': '20:24:59', 'data': {'latitude': -37.8757, 'longitude': 143.428, 'confidence': 66, 'surface_temperature_celcius': 43}, 'sender_id': 'Producer2'}\n",
      "Message published successfully. Data: {'create_time': '20:25:12', 'data': {'latitude': -37.7966, 'longitude': 142.3196, 'confidence': 76, 'surface_temperature_celcius': 66}, 'sender_id': 'Producer2'}\n",
      "Message published successfully. Data: {'create_time': '20:25:28', 'data': {'latitude': -35.9435, 'longitude': 145.6489, 'confidence': 78, 'surface_temperature_celcius': 51}, 'sender_id': 'Producer2'}\n",
      "Message published successfully. Data: {'create_time': '20:25:52', 'data': {'latitude': -36.2913, 'longitude': 142.9408, 'confidence': 80, 'surface_temperature_celcius': 54}, 'sender_id': 'Producer2'}\n",
      "Message published successfully. Data: {'create_time': '20:26:11', 'data': {'latitude': -37.6684, 'longitude': 148.5109, 'confidence': 94, 'surface_temperature_celcius': 108}, 'sender_id': 'Producer2'}\n",
      "Message published successfully. Data: {'create_time': '20:26:30', 'data': {'latitude': -37.3723, 'longitude': 143.8406, 'confidence': 52, 'surface_temperature_celcius': 42}, 'sender_id': 'Producer2'}\n",
      "Message published successfully. Data: {'create_time': '20:26:58', 'data': {'latitude': -36.6396, 'longitude': 146.8973, 'confidence': 66, 'surface_temperature_celcius': 36}, 'sender_id': 'Producer2'}\n",
      "Message published successfully. Data: {'create_time': '20:27:21', 'data': {'latitude': -37.469, 'longitude': 148.10299999999998, 'confidence': 87, 'surface_temperature_celcius': 59}, 'sender_id': 'Producer2'}\n",
      "Message published successfully. Data: {'create_time': '20:27:42', 'data': {'latitude': -36.1439, 'longitude': 145.832, 'confidence': 53, 'surface_temperature_celcius': 50}, 'sender_id': 'Producer2'}\n",
      "Message published successfully. Data: {'create_time': '20:27:53', 'data': {'latitude': -37.8857, 'longitude': 143.2777, 'confidence': 63, 'surface_temperature_celcius': 41}, 'sender_id': 'Producer2'}\n",
      "Message published successfully. Data: {'create_time': '20:28:23', 'data': {'latitude': -37.4523, 'longitude': 147.0175, 'confidence': 90, 'surface_temperature_celcius': 66}, 'sender_id': 'Producer2'}\n",
      "Message published successfully. Data: {'create_time': '20:28:38', 'data': {'latitude': -36.9951, 'longitude': 143.91299999999998, 'confidence': 68, 'surface_temperature_celcius': 44}, 'sender_id': 'Producer2'}\n",
      "Message published successfully. Data: {'create_time': '20:29:06', 'data': {'latitude': -38.2026, 'longitude': 147.0856, 'confidence': 81, 'surface_temperature_celcius': 54}, 'sender_id': 'Producer2'}\n",
      "Message published successfully. Data: {'create_time': '20:29:19', 'data': {'latitude': -37.79, 'longitude': 143.3801, 'confidence': 82, 'surface_temperature_celcius': 62}, 'sender_id': 'Producer2'}\n"
     ]
    },
    {
     "name": "stderr",
     "output_type": "stream",
     "text": [
      "ERROR:root:Internal Python error in the inspect module.\n",
      "Below is the traceback from this internal error.\n",
      "\n"
     ]
    },
    {
     "name": "stdout",
     "output_type": "stream",
     "text": [
      "Traceback (most recent call last):\n",
      "  File \"/home/student/.local/lib/python3.5/site-packages/IPython/core/interactiveshell.py\", line 2963, in run_code\n",
      "    exec(code_obj, self.user_global_ns, self.user_ns)\n",
      "  File \"<ipython-input-1-1dd6ac8bf760>\", line 45, in <module>\n",
      "    sleep(t)\n",
      "KeyboardInterrupt\n",
      "\n",
      "During handling of the above exception, another exception occurred:\n",
      "\n",
      "Traceback (most recent call last):\n",
      "  File \"/home/student/.local/lib/python3.5/site-packages/IPython/core/interactiveshell.py\", line 1863, in showtraceback\n",
      "    stb = value._render_traceback_()\n",
      "AttributeError: 'KeyboardInterrupt' object has no attribute '_render_traceback_'\n",
      "\n",
      "During handling of the above exception, another exception occurred:\n",
      "\n",
      "Traceback (most recent call last):\n",
      "  File \"/home/student/.local/lib/python3.5/site-packages/IPython/core/ultratb.py\", line 1095, in get_records\n",
      "    return _fixed_getinnerframes(etb, number_of_lines_of_context, tb_offset)\n",
      "  File \"/home/student/.local/lib/python3.5/site-packages/IPython/core/ultratb.py\", line 311, in wrapped\n",
      "    return f(*args, **kwargs)\n",
      "  File \"/home/student/.local/lib/python3.5/site-packages/IPython/core/ultratb.py\", line 345, in _fixed_getinnerframes\n",
      "    records = fix_frame_records_filenames(inspect.getinnerframes(etb, context))\n",
      "  File \"/usr/lib/python3.5/inspect.py\", line 1453, in getinnerframes\n",
      "    frameinfo = (tb.tb_frame,) + getframeinfo(tb, context)\n",
      "  File \"/usr/lib/python3.5/inspect.py\", line 1410, in getframeinfo\n",
      "    filename = getsourcefile(frame) or getfile(frame)\n",
      "  File \"/usr/lib/python3.5/inspect.py\", line 672, in getsourcefile\n",
      "    if getattr(getmodule(object, filename), '__loader__', None) is not None:\n",
      "  File \"/usr/lib/python3.5/inspect.py\", line 709, in getmodule\n",
      "    if ismodule(module) and hasattr(module, '__file__'):\n",
      "KeyboardInterrupt\n"
     ]
    },
    {
     "ename": "KeyboardInterrupt",
     "evalue": "",
     "output_type": "error",
     "traceback": [
      "\u001b[0;31m---------------------------------------------------------------------------\u001b[0m"
     ]
    }
   ],
   "source": [
    "from time import sleep\n",
    "from json import dumps\n",
    "from kafka import KafkaProducer\n",
    "import random\n",
    "import datetime as dt\n",
    "import pandas as pd\n",
    " \n",
    "def publish_message(producer_instance, topic_name, data):\n",
    "    try:\n",
    "        producer_instance.send(topic_name, value=data)\n",
    "        print('Message published successfully. Data: ' + str(data))\n",
    "    except Exception as ex:\n",
    "        print('Exception in publishing message.')\n",
    "        print(str(ex))\n",
    "        \n",
    "def connect_kafka_producer():\n",
    "    _producer = None\n",
    "    try:\n",
    "        _producer = KafkaProducer(bootstrap_servers=['localhost:9092'],\n",
    "                                  value_serializer=lambda x: dumps(x).encode('ascii'),\n",
    "                                  api_version=(0, 10))\n",
    "    except Exception as ex:\n",
    "        print('Exception while connecting Kafka.')\n",
    "        print(str(ex))\n",
    "    finally:\n",
    "        return _producer\n",
    "    \n",
    "if __name__ == '__main__':\n",
    "   \n",
    "    topic = 'Producer'\n",
    "    print('Publishing records..')\n",
    "    producer02 = connect_kafka_producer()\n",
    "    \n",
    "    Has = pd.read_csv('hotspot_AQUA_streaming.csv') # read data from .csv file\n",
    "    Has_dict = Has.to_dict(orient = 'records')\n",
    "    \n",
    "    Stop = False\n",
    "    while not Stop:  # Using while so that the simulation process will not stop reading data\n",
    "        rand = random.randint(0,len(Has_dict)-1)  # Generate a random number\n",
    "        document = Has_dict[rand]  # Read the file randomly\n",
    "        datetime = str(dt.datetime.now().strftime(\"%X\"))\n",
    "        data = {'create_time': datetime, 'sender_id': 'Producer2','data' : document}\n",
    "        publish_message(producer02, topic, data)\n",
    "        t = random.randint(10,30) # Generate random number to make the message time is between 10 to 30s\n",
    "        sleep(t)"
   ]
  },
  {
   "cell_type": "code",
   "execution_count": null,
   "metadata": {},
   "outputs": [],
   "source": []
  },
  {
   "cell_type": "code",
   "execution_count": null,
   "metadata": {},
   "outputs": [],
   "source": []
  }
 ],
 "metadata": {
  "kernelspec": {
   "display_name": "Python 3",
   "language": "python",
   "name": "python3"
  },
  "language_info": {
   "codemirror_mode": {
    "name": "ipython",
    "version": 3
   },
   "file_extension": ".py",
   "mimetype": "text/x-python",
   "name": "python",
   "nbconvert_exporter": "python",
   "pygments_lexer": "ipython3",
   "version": "3.5.2"
  }
 },
 "nbformat": 4,
 "nbformat_minor": 2
}
